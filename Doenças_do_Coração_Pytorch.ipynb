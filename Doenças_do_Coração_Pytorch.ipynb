{
  "nbformat": 4,
  "nbformat_minor": 0,
  "metadata": {
    "colab": {
      "provenance": []
    },
    "kernelspec": {
      "name": "python3",
      "display_name": "Python 3"
    },
    "language_info": {
      "name": "python"
    }
  },
  "cells": [
    {
      "cell_type": "code",
      "source": [
        "import torch\n",
        "import torch.nn as nn\n",
        "import torch.optim as optim\n",
        "from torch.utils.data import DataLoader, TensorDataset\n",
        "import numpy as np\n",
        "import pandas as pd\n",
        "from sklearn.model_selection import train_test_split\n",
        "from sklearn.preprocessing import StandardScaler\n",
        "import matplotlib.pyplot as plt\n",
        "\n"
      ],
      "metadata": {
        "id": "P7a9Mhp535PM"
      },
      "execution_count": 14,
      "outputs": []
    },
    {
      "cell_type": "code",
      "source": [
        "# Carregar os dados\n",
        "data = pd.read_csv(\"/content/heart.csv\")\n",
        "\n",
        "print(data)\n"
      ],
      "metadata": {
        "colab": {
          "base_uri": "https://localhost:8080/"
        },
        "id": "B6naI58N50rS",
        "outputId": "fb94a5f9-d854-47e9-9218-16fc9638d6b3"
      },
      "execution_count": 15,
      "outputs": [
        {
          "output_type": "stream",
          "name": "stdout",
          "text": [
            "      age  sex  cp  trestbps  chol  fbs  restecg  thalach  exang  oldpeak  \\\n",
            "0      52    1   0       125   212    0        1      168      0      1.0   \n",
            "1      53    1   0       140   203    1        0      155      1      3.1   \n",
            "2      70    1   0       145   174    0        1      125      1      2.6   \n",
            "3      61    1   0       148   203    0        1      161      0      0.0   \n",
            "4      62    0   0       138   294    1        1      106      0      1.9   \n",
            "...   ...  ...  ..       ...   ...  ...      ...      ...    ...      ...   \n",
            "1020   59    1   1       140   221    0        1      164      1      0.0   \n",
            "1021   60    1   0       125   258    0        0      141      1      2.8   \n",
            "1022   47    1   0       110   275    0        0      118      1      1.0   \n",
            "1023   50    0   0       110   254    0        0      159      0      0.0   \n",
            "1024   54    1   0       120   188    0        1      113      0      1.4   \n",
            "\n",
            "      slope  ca  thal  target  \n",
            "0         2   2     3       0  \n",
            "1         0   0     3       0  \n",
            "2         0   0     3       0  \n",
            "3         2   1     3       0  \n",
            "4         1   3     2       0  \n",
            "...     ...  ..   ...     ...  \n",
            "1020      2   0     2       1  \n",
            "1021      1   1     3       0  \n",
            "1022      1   1     2       0  \n",
            "1023      2   0     2       1  \n",
            "1024      1   1     3       0  \n",
            "\n",
            "[1025 rows x 14 columns]\n"
          ]
        }
      ]
    },
    {
      "cell_type": "code",
      "source": [
        "# Dividir os dados em features (X) e rótulos (y)\n",
        "X = data.drop('target', axis=1).values  # Features\n",
        "y = data['target'].values  # Rótulos\n"
      ],
      "metadata": {
        "id": "ktF21Erg6eu_"
      },
      "execution_count": 16,
      "outputs": []
    },
    {
      "cell_type": "code",
      "source": [
        "# Dividir os dados em conjuntos de treinamento e teste\n",
        "X_train, X_test, y_train, y_test = train_test_split(X, y, test_size=0.3, random_state=42)\n"
      ],
      "metadata": {
        "id": "5hh8Yg4J6ou2"
      },
      "execution_count": 17,
      "outputs": []
    },
    {
      "cell_type": "code",
      "source": [
        "# Padronizar as features (opcional, mas recomendado)\n",
        "scaler = StandardScaler()\n",
        "X_train = scaler.fit_transform(X_train)\n",
        "X_test = scaler.transform(X_test)\n"
      ],
      "metadata": {
        "id": "6BaBYzeB62EN"
      },
      "execution_count": 18,
      "outputs": []
    },
    {
      "cell_type": "code",
      "source": [
        "# Converter para tensores PyTorch\n",
        "X_train_tensor = torch.tensor(X_train, dtype=torch.float32)\n",
        "y_train_tensor = torch.tensor(y_train, dtype=torch.long)\n",
        "X_test_tensor = torch.tensor(X_test, dtype=torch.float32)\n",
        "y_test_tensor = torch.tensor(y_test, dtype=torch.long)\n"
      ],
      "metadata": {
        "id": "7aWFnmSa6-tz"
      },
      "execution_count": 19,
      "outputs": []
    },
    {
      "cell_type": "code",
      "source": [
        "# Criar DataLoader para os dados de treinamento e teste\n",
        "train_dataset = TensorDataset(X_train_tensor, y_train_tensor)\n",
        "train_loader = DataLoader(train_dataset, batch_size=32, shuffle=True)\n",
        "test_dataset = TensorDataset(X_test_tensor, y_test_tensor)\n",
        "test_loader = DataLoader(test_dataset, batch_size=32)\n"
      ],
      "metadata": {
        "id": "-rOp59Zc7Jg0"
      },
      "execution_count": 20,
      "outputs": []
    },
    {
      "cell_type": "code",
      "source": [
        "# Definir a arquitetura do modelo\n",
        "class Model(nn.Module):\n",
        "    def __init__(self, input_size, hidden_size, num_classes):\n",
        "        super(Model, self).__init__()\n",
        "        self.fc1 = nn.Linear(input_size, hidden_size)\n",
        "        self.relu = nn.ReLU()\n",
        "        self.fc2 = nn.Linear(hidden_size, num_classes)\n",
        "\n",
        "    def forward(self, x):\n",
        "        out = self.fc1(x)\n",
        "        out = self.relu(out)\n",
        "        out = self.fc2(out)\n",
        "        return out\n",
        "\n"
      ],
      "metadata": {
        "id": "t5M9nZGb7W3o"
      },
      "execution_count": 21,
      "outputs": []
    },
    {
      "cell_type": "code",
      "source": [
        "# Definir os parâmetros do modelo\n",
        "input_size = X_train.shape[1]\n",
        "hidden_size = 64\n",
        "num_classes = len(pd.unique(y))  # Número de classes\n",
        "\n",
        "# Inicializar o modelo, função de perda e otimizador\n",
        "model = Model(input_size, hidden_size, num_classes)\n",
        "criterion = nn.CrossEntropyLoss()\n",
        "optimizer = optim.Adam(model.parameters(), lr=0.001)\n"
      ],
      "metadata": {
        "id": "pES4dJ0L7g0e"
      },
      "execution_count": 22,
      "outputs": []
    },
    {
      "cell_type": "code",
      "source": [
        "# Função para treinar o modelo e retornar o histórico da perda\n",
        "def train_model(model, criterion, optimizer, train_loader, num_epochs=10):\n",
        "    train_loss_history = []  # Lista para armazenar a perda de treinamento a cada época\n",
        "    for epoch in range(num_epochs):\n",
        "        model.train()  # Define o modelo em modo de treinamento\n",
        "        running_loss = 0.0\n",
        "        for inputs, labels in train_loader:\n",
        "            optimizer.zero_grad()\n",
        "            outputs = model(inputs)\n",
        "            loss = criterion(outputs, labels)\n",
        "            loss.backward()\n",
        "            optimizer.step()\n",
        "            running_loss += loss.item()\n",
        "        epoch_loss = running_loss / len(train_loader)\n",
        "        train_loss_history.append(epoch_loss)  # Registra a perda média da época\n",
        "        print(f'Epoch [{epoch+1}/{num_epochs}], Loss: {epoch_loss:.4f}')\n",
        "    return train_loss_history"
      ],
      "metadata": {
        "id": "nUkzQQMq72xB"
      },
      "execution_count": 23,
      "outputs": []
    },
    {
      "cell_type": "code",
      "source": [
        "# Treinar o modelo e obter o histórico da perda\n",
        "train_loss_history = train_model(model, criterion, optimizer, train_loader, num_epochs=50)\n",
        "\n",
        "# Plotar a curva de aprendizado\n",
        "plt.plot(range(1, len(train_loss_history) + 1), train_loss_history, label='Training Loss')\n",
        "plt.xlabel('Epoch')\n",
        "plt.ylabel('Loss')\n",
        "plt.title('Training Loss over Epochs')\n",
        "plt.legend()\n",
        "plt.show()\n"
      ],
      "metadata": {
        "colab": {
          "base_uri": "https://localhost:8080/",
          "height": 1000
        },
        "id": "SQyTEIc58ZdH",
        "outputId": "ca0cef4a-dd2c-4c95-beb8-a2cebf8cc533"
      },
      "execution_count": 24,
      "outputs": [
        {
          "output_type": "stream",
          "name": "stdout",
          "text": [
            "Epoch [1/50], Loss: 0.5883\n",
            "Epoch [2/50], Loss: 0.4782\n",
            "Epoch [3/50], Loss: 0.4099\n",
            "Epoch [4/50], Loss: 0.3691\n",
            "Epoch [5/50], Loss: 0.3499\n",
            "Epoch [6/50], Loss: 0.3363\n",
            "Epoch [7/50], Loss: 0.3201\n",
            "Epoch [8/50], Loss: 0.3064\n",
            "Epoch [9/50], Loss: 0.3031\n",
            "Epoch [10/50], Loss: 0.2971\n",
            "Epoch [11/50], Loss: 0.2893\n",
            "Epoch [12/50], Loss: 0.2828\n",
            "Epoch [13/50], Loss: 0.2831\n",
            "Epoch [14/50], Loss: 0.2723\n",
            "Epoch [15/50], Loss: 0.2654\n",
            "Epoch [16/50], Loss: 0.2645\n",
            "Epoch [17/50], Loss: 0.2584\n",
            "Epoch [18/50], Loss: 0.2563\n",
            "Epoch [19/50], Loss: 0.2473\n",
            "Epoch [20/50], Loss: 0.2439\n",
            "Epoch [21/50], Loss: 0.2374\n",
            "Epoch [22/50], Loss: 0.2378\n",
            "Epoch [23/50], Loss: 0.2293\n",
            "Epoch [24/50], Loss: 0.2263\n",
            "Epoch [25/50], Loss: 0.2264\n",
            "Epoch [26/50], Loss: 0.2183\n",
            "Epoch [27/50], Loss: 0.2101\n",
            "Epoch [28/50], Loss: 0.2106\n",
            "Epoch [29/50], Loss: 0.2033\n",
            "Epoch [30/50], Loss: 0.2025\n",
            "Epoch [31/50], Loss: 0.1945\n",
            "Epoch [32/50], Loss: 0.1971\n",
            "Epoch [33/50], Loss: 0.1886\n",
            "Epoch [34/50], Loss: 0.1833\n",
            "Epoch [35/50], Loss: 0.1818\n",
            "Epoch [36/50], Loss: 0.1734\n",
            "Epoch [37/50], Loss: 0.1758\n",
            "Epoch [38/50], Loss: 0.1697\n",
            "Epoch [39/50], Loss: 0.1679\n",
            "Epoch [40/50], Loss: 0.1600\n",
            "Epoch [41/50], Loss: 0.1580\n",
            "Epoch [42/50], Loss: 0.1539\n",
            "Epoch [43/50], Loss: 0.1557\n",
            "Epoch [44/50], Loss: 0.1502\n",
            "Epoch [45/50], Loss: 0.1481\n",
            "Epoch [46/50], Loss: 0.1409\n",
            "Epoch [47/50], Loss: 0.1381\n",
            "Epoch [48/50], Loss: 0.1358\n",
            "Epoch [49/50], Loss: 0.1330\n",
            "Epoch [50/50], Loss: 0.1276\n"
          ]
        },
        {
          "output_type": "display_data",
          "data": {
            "text/plain": [
              "<Figure size 640x480 with 1 Axes>"
            ],
            "image/png": "[encoded data removed]"
          },
          "metadata": {}
        }
      ]
    },
    {
      "cell_type": "code",
      "source": [
        "# Avaliar o modelo\n",
        "model.eval()\n",
        "with torch.no_grad():\n",
        "    all_predictions = []\n",
        "    all_targets = []\n",
        "    for inputs, labels in test_loader:\n",
        "        outputs = model(inputs)\n",
        "        _, predicted = torch.max(outputs.data, 1)\n",
        "        all_predictions.extend(predicted.tolist())\n",
        "        all_targets.extend(labels.tolist())\n",
        ""
      ],
      "metadata": {
        "id": "CZQIo5qs8mqM"
      },
      "execution_count": 25,
      "outputs": []
    },
    {
      "cell_type": "code",
      "source": [
        "# Calcular a acurácia\n",
        "accuracy = accuracy_score(all_targets, all_predictions)\n",
        "print(f'Acurácia no conjunto de teste: {accuracy:.2f}')\n",
        "\n",
        "# Calcular a matriz de confusão\n",
        "conf_matrix = confusion_matrix(all_targets, all_predictions)\n",
        "print('Matriz de Confusão:')\n",
        "print(conf_matrix)"
      ],
      "metadata": {
        "colab": {
          "base_uri": "https://localhost:8080/"
        },
        "id": "jdS5VHkp8uww",
        "outputId": "04a5c79a-2090-48ff-d2c3-fd4be2c4abca"
      },
      "execution_count": 26,
      "outputs": [
        {
          "output_type": "stream",
          "name": "stdout",
          "text": [
            "Acurácia no conjunto de teste: 0.91\n",
            "Matriz de Confusão:\n",
            "[[145  14]\n",
            " [ 13 136]]\n"
          ]
        }
      ]
    }
  ]
}